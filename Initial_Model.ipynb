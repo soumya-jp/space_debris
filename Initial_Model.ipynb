{
 "cells": [
  {
   "cell_type": "markdown",
   "id": "d36c4a97",
   "metadata": {},
   "source": [
    "# Initial Model using RandomForest and Gradient Boost"
   ]
  },
  {
   "cell_type": "code",
   "execution_count": 2,
   "id": "312fc084",
   "metadata": {},
   "outputs": [],
   "source": [
    "import pandas as pd"
   ]
  },
  {
   "cell_type": "code",
   "execution_count": 3,
   "id": "c58f4f0e",
   "metadata": {},
   "outputs": [
    {
     "data": {
      "text/html": [
       "<div>\n",
       "<style scoped>\n",
       "    .dataframe tbody tr th:only-of-type {\n",
       "        vertical-align: middle;\n",
       "    }\n",
       "\n",
       "    .dataframe tbody tr th {\n",
       "        vertical-align: top;\n",
       "    }\n",
       "\n",
       "    .dataframe thead th {\n",
       "        text-align: right;\n",
       "    }\n",
       "</style>\n",
       "<table border=\"1\" class=\"dataframe\">\n",
       "  <thead>\n",
       "    <tr style=\"text-align: right;\">\n",
       "      <th></th>\n",
       "      <th>OBJECT_NAME</th>\n",
       "      <th>OBJECT_ID</th>\n",
       "      <th>EPOCH</th>\n",
       "      <th>MEAN_MOTION</th>\n",
       "      <th>ECCENTRICITY</th>\n",
       "      <th>INCLINATION</th>\n",
       "      <th>RA_OF_ASC_NODE</th>\n",
       "      <th>ARG_OF_PERICENTER</th>\n",
       "      <th>MEAN_ANOMALY</th>\n",
       "      <th>REV_AT_EPOCH</th>\n",
       "      <th>...</th>\n",
       "      <th>PERIAPSIS</th>\n",
       "      <th>OBJECT_TYPE</th>\n",
       "      <th>RCS_SIZE</th>\n",
       "      <th>COUNTRY_CODE</th>\n",
       "      <th>LAUNCH_DATE</th>\n",
       "      <th>SITE</th>\n",
       "      <th>TLE_LINE0</th>\n",
       "      <th>TLE_LINE1</th>\n",
       "      <th>TLE_LINE2</th>\n",
       "      <th>OBJECT_TYPE_ENCODED</th>\n",
       "    </tr>\n",
       "  </thead>\n",
       "  <tbody>\n",
       "    <tr>\n",
       "      <th>0</th>\n",
       "      <td>ARIANE 42P+ DEB</td>\n",
       "      <td>1992-072J</td>\n",
       "      <td>2021-10-31T22:46:50.340864</td>\n",
       "      <td>2.921700</td>\n",
       "      <td>0.652893</td>\n",
       "      <td>7.7156</td>\n",
       "      <td>90.2410</td>\n",
       "      <td>243.1216</td>\n",
       "      <td>38.7796</td>\n",
       "      <td>23588</td>\n",
       "      <td>...</td>\n",
       "      <td>796.095</td>\n",
       "      <td>DEBRIS</td>\n",
       "      <td>MEDIUM</td>\n",
       "      <td>FR</td>\n",
       "      <td>1992.0</td>\n",
       "      <td>FRGUI</td>\n",
       "      <td>0 ARIANE 42P+ DEB</td>\n",
       "      <td>1 26741U 92072J   21304.94919376  .00000883  0...</td>\n",
       "      <td>2 26741   7.7156  90.2410 6528926 243.1216  38...</td>\n",
       "      <td>0</td>\n",
       "    </tr>\n",
       "    <tr>\n",
       "      <th>1</th>\n",
       "      <td>SL-8 DEB</td>\n",
       "      <td>1979-028C</td>\n",
       "      <td>2021-10-31T16:32:17.360448</td>\n",
       "      <td>13.754973</td>\n",
       "      <td>0.003072</td>\n",
       "      <td>82.9193</td>\n",
       "      <td>299.1120</td>\n",
       "      <td>158.9093</td>\n",
       "      <td>201.3337</td>\n",
       "      <td>50124</td>\n",
       "      <td>...</td>\n",
       "      <td>957.299</td>\n",
       "      <td>DEBRIS</td>\n",
       "      <td>SMALL</td>\n",
       "      <td>CIS</td>\n",
       "      <td>1979.0</td>\n",
       "      <td>PKMTR</td>\n",
       "      <td>0 SL-8 DEB</td>\n",
       "      <td>1 26743U 79028C   21304.68908982  .00000079  0...</td>\n",
       "      <td>2 26743  82.9193 299.1120 0030720 158.9093 201...</td>\n",
       "      <td>0</td>\n",
       "    </tr>\n",
       "    <tr>\n",
       "      <th>2</th>\n",
       "      <td>GSAT 1</td>\n",
       "      <td>2001-015A</td>\n",
       "      <td>2021-11-01T05:22:43.421952</td>\n",
       "      <td>1.038224</td>\n",
       "      <td>0.023739</td>\n",
       "      <td>12.1717</td>\n",
       "      <td>16.5368</td>\n",
       "      <td>250.1248</td>\n",
       "      <td>146.2900</td>\n",
       "      <td>7798</td>\n",
       "      <td>...</td>\n",
       "      <td>33841.738</td>\n",
       "      <td>PAYLOAD</td>\n",
       "      <td>LARGE</td>\n",
       "      <td>IND</td>\n",
       "      <td>2001.0</td>\n",
       "      <td>SRI</td>\n",
       "      <td>0 GSAT 1</td>\n",
       "      <td>1 26745U 01015A   21305.22411368 -.00000165  0...</td>\n",
       "      <td>2 26745  12.1717  16.5368 0237386 250.1248 146...</td>\n",
       "      <td>1</td>\n",
       "    </tr>\n",
       "    <tr>\n",
       "      <th>3</th>\n",
       "      <td>CZ-4 DEB</td>\n",
       "      <td>1999-057MB</td>\n",
       "      <td>2021-10-31T11:11:24.198720</td>\n",
       "      <td>14.775907</td>\n",
       "      <td>0.006062</td>\n",
       "      <td>98.4781</td>\n",
       "      <td>8.7205</td>\n",
       "      <td>37.3771</td>\n",
       "      <td>323.1632</td>\n",
       "      <td>10204</td>\n",
       "      <td>...</td>\n",
       "      <td>594.417</td>\n",
       "      <td>DEBRIS</td>\n",
       "      <td>SMALL</td>\n",
       "      <td>PRC</td>\n",
       "      <td>1999.0</td>\n",
       "      <td>TSC</td>\n",
       "      <td>0 CZ-4 DEB</td>\n",
       "      <td>1 26754U 99057MB  21304.46625230  .00002265  0...</td>\n",
       "      <td>2 26754  98.4781   8.7205 0060618  37.3771 323...</td>\n",
       "      <td>0</td>\n",
       "    </tr>\n",
       "    <tr>\n",
       "      <th>4</th>\n",
       "      <td>CZ-4 DEB</td>\n",
       "      <td>1999-057MC</td>\n",
       "      <td>2021-10-31T17:46:46.681248</td>\n",
       "      <td>14.724482</td>\n",
       "      <td>0.006226</td>\n",
       "      <td>98.4232</td>\n",
       "      <td>122.0724</td>\n",
       "      <td>345.1605</td>\n",
       "      <td>27.6061</td>\n",
       "      <td>9622</td>\n",
       "      <td>...</td>\n",
       "      <td>609.491</td>\n",
       "      <td>DEBRIS</td>\n",
       "      <td>SMALL</td>\n",
       "      <td>PRC</td>\n",
       "      <td>1999.0</td>\n",
       "      <td>TSC</td>\n",
       "      <td>0 CZ-4 DEB</td>\n",
       "      <td>1 26755U 99057MC  21304.74081807  .00002610  0...</td>\n",
       "      <td>2 26755  98.4232 122.0724 0062255 345.1605  27...</td>\n",
       "      <td>0</td>\n",
       "    </tr>\n",
       "  </tbody>\n",
       "</table>\n",
       "<p>5 rows × 26 columns</p>\n",
       "</div>"
      ],
      "text/plain": [
       "       OBJECT_NAME   OBJECT_ID                       EPOCH  MEAN_MOTION  \\\n",
       "0  ARIANE 42P+ DEB   1992-072J  2021-10-31T22:46:50.340864     2.921700   \n",
       "1         SL-8 DEB   1979-028C  2021-10-31T16:32:17.360448    13.754973   \n",
       "2           GSAT 1   2001-015A  2021-11-01T05:22:43.421952     1.038224   \n",
       "3         CZ-4 DEB  1999-057MB  2021-10-31T11:11:24.198720    14.775907   \n",
       "4         CZ-4 DEB  1999-057MC  2021-10-31T17:46:46.681248    14.724482   \n",
       "\n",
       "   ECCENTRICITY  INCLINATION  RA_OF_ASC_NODE  ARG_OF_PERICENTER  MEAN_ANOMALY  \\\n",
       "0      0.652893       7.7156         90.2410           243.1216       38.7796   \n",
       "1      0.003072      82.9193        299.1120           158.9093      201.3337   \n",
       "2      0.023739      12.1717         16.5368           250.1248      146.2900   \n",
       "3      0.006062      98.4781          8.7205            37.3771      323.1632   \n",
       "4      0.006226      98.4232        122.0724           345.1605       27.6061   \n",
       "\n",
       "   REV_AT_EPOCH  ...  PERIAPSIS  OBJECT_TYPE  RCS_SIZE  COUNTRY_CODE  \\\n",
       "0         23588  ...    796.095       DEBRIS    MEDIUM            FR   \n",
       "1         50124  ...    957.299       DEBRIS     SMALL           CIS   \n",
       "2          7798  ...  33841.738      PAYLOAD     LARGE           IND   \n",
       "3         10204  ...    594.417       DEBRIS     SMALL           PRC   \n",
       "4          9622  ...    609.491       DEBRIS     SMALL           PRC   \n",
       "\n",
       "   LAUNCH_DATE   SITE          TLE_LINE0  \\\n",
       "0       1992.0  FRGUI  0 ARIANE 42P+ DEB   \n",
       "1       1979.0  PKMTR         0 SL-8 DEB   \n",
       "2       2001.0    SRI           0 GSAT 1   \n",
       "3       1999.0    TSC         0 CZ-4 DEB   \n",
       "4       1999.0    TSC         0 CZ-4 DEB   \n",
       "\n",
       "                                           TLE_LINE1  \\\n",
       "0  1 26741U 92072J   21304.94919376  .00000883  0...   \n",
       "1  1 26743U 79028C   21304.68908982  .00000079  0...   \n",
       "2  1 26745U 01015A   21305.22411368 -.00000165  0...   \n",
       "3  1 26754U 99057MB  21304.46625230  .00002265  0...   \n",
       "4  1 26755U 99057MC  21304.74081807  .00002610  0...   \n",
       "\n",
       "                                           TLE_LINE2 OBJECT_TYPE_ENCODED  \n",
       "0  2 26741   7.7156  90.2410 6528926 243.1216  38...                   0  \n",
       "1  2 26743  82.9193 299.1120 0030720 158.9093 201...                   0  \n",
       "2  2 26745  12.1717  16.5368 0237386 250.1248 146...                   1  \n",
       "3  2 26754  98.4781   8.7205 0060618  37.3771 323...                   0  \n",
       "4  2 26755  98.4232 122.0724 0062255 345.1605  27...                   0  \n",
       "\n",
       "[5 rows x 26 columns]"
      ]
     },
     "execution_count": 3,
     "metadata": {},
     "output_type": "execute_result"
    }
   ],
   "source": [
    "df = pd.read_csv(\"data/cleaned_data.csv\")\n",
    "df.head()"
   ]
  },
  {
   "cell_type": "code",
   "execution_count": 10,
   "id": "48dffc71",
   "metadata": {},
   "outputs": [],
   "source": [
    "from sklearn.preprocessing import LabelEncoder\n",
    "\n",
    "label_encoder = LabelEncoder()\n",
    "\n",
    "# Encode OBJECT_TYPE\n",
    "df['OBJECT_TYPE_ENCODED'] = label_encoder.fit_transform(df['OBJECT_TYPE'])\n",
    "\n",
    "# Split into X and Y\n",
    "X = df.drop(columns=['OBJECT_TYPE', 'OBJECT_TYPE_ENCODED'])  # Features\n",
    "y = df['OBJECT_TYPE_ENCODED']  # Encoded target"
   ]
  },
  {
   "cell_type": "code",
   "execution_count": 11,
   "id": "fc89be5a",
   "metadata": {},
   "outputs": [
    {
     "data": {
      "text/plain": [
       "Index(['OBJECT_NAME', 'OBJECT_ID', 'EPOCH', 'MEAN_MOTION', 'ECCENTRICITY',\n",
       "       'INCLINATION', 'RA_OF_ASC_NODE', 'ARG_OF_PERICENTER', 'MEAN_ANOMALY',\n",
       "       'REV_AT_EPOCH', 'BSTAR', 'MEAN_MOTION_DOT', 'MEAN_MOTION_DDOT',\n",
       "       'SEMIMAJOR_AXIS', 'PERIOD', 'APOAPSIS', 'PERIAPSIS', 'RCS_SIZE',\n",
       "       'COUNTRY_CODE', 'LAUNCH_DATE', 'SITE', 'TLE_LINE0', 'TLE_LINE1',\n",
       "       'TLE_LINE2'],\n",
       "      dtype='object')"
      ]
     },
     "execution_count": 11,
     "metadata": {},
     "output_type": "execute_result"
    }
   ],
   "source": [
    "X.columns"
   ]
  },
  {
   "cell_type": "code",
   "execution_count": null,
   "id": "07ca59d4",
   "metadata": {},
   "outputs": [
    {
     "name": "stdout",
     "output_type": "stream",
     "text": [
      "Accuracy: 0.9634261444077395\n",
      "F1: 0.888959801490724\n"
     ]
    }
   ],
   "source": [
    "from sklearn.model_selection import train_test_split\n",
    "from sklearn.ensemble import RandomForestClassifier\n",
    "from sklearn.preprocessing import OneHotEncoder\n",
    "from sklearn.compose import ColumnTransformer\n",
    "from sklearn.pipeline import Pipeline\n",
    "from sklearn.impute import SimpleImputer\n",
    "\n",
    "# Drop non-numeric columns and target variable from X\n",
    "X = X.drop(columns=['OBJECT_NAME', 'OBJECT_ID', 'SITE', 'TLE_LINE0', 'TLE_LINE1', 'TLE_LINE2'])\n",
    "\n",
    "# Split data into training and testing sets\n",
    "X_train, X_test, y_train, y_test = train_test_split(X, y, test_size=0.3, random_state=42)\n",
    "\n",
    "# Define a column transformer for preprocessing\n",
    "# For categorical columns, OneHotEncoder. For numerical columns, SimpleImputer\n",
    "preprocessor = ColumnTransformer(\n",
    "    transformers=[\n",
    "        ('num', SimpleImputer(strategy='mean'), X.select_dtypes(include=['float64', 'int64']).columns),\n",
    "        ('cat', OneHotEncoder(handle_unknown='ignore'), X.select_dtypes(include=['object']).columns)\n",
    "    ])\n",
    "\n",
    "# Pipeline that preprocesses the data and fits RandomForestClassifier\n",
    "model = Pipeline(steps=[\n",
    "    ('preprocessor', preprocessor),\n",
    "    ('classifier', RandomForestClassifier(random_state=42))\n",
    "])\n",
    "\n",
    "# Train the model\n",
    "model.fit(X_train, y_train)\n",
    "\n",
    "# Make predictions\n",
    "y_pred = model.predict(X_test)"
   ]
  },
  {
   "cell_type": "code",
   "execution_count": 21,
   "id": "c30bf5f1",
   "metadata": {},
   "outputs": [
    {
     "name": "stdout",
     "output_type": "stream",
     "text": [
      "Random Forest Model Metrics:\n",
      "Accuracy: 0.9634261444077395\n",
      "F1: 0.888959801490724\n",
      "Recall: 0.8553040347529887\n"
     ]
    }
   ],
   "source": [
    "# Evaluate the model\n",
    "from sklearn.metrics import accuracy_score, f1_score, recall_score\n",
    "print(\"Random Forest Model Metrics:\")\n",
    "print(\"Accuracy:\", accuracy_score(y_test, y_pred))\n",
    "print(\"F1:\", f1_score(y_test, y_pred, average='macro'))\n",
    "print(\"Recall:\", recall_score(y_test, y_pred, average='macro'))"
   ]
  },
  {
   "cell_type": "code",
   "execution_count": null,
   "id": "9da889a1",
   "metadata": {},
   "outputs": [
    {
     "name": "stdout",
     "output_type": "stream",
     "text": [
      "Cross-validation scores: [0.79964602 0.94867257 0.96955752 0.97061947 0.91823009]\n",
      "Mean accuracy: 0.9213451327433628\n"
     ]
    }
   ],
   "source": [
    "#Cross-Validation\n",
    "from sklearn.model_selection import cross_val_score\n",
    "\n",
    "cv_scores = cross_val_score(model, X, y, cv=5, scoring='accuracy')\n",
    "print(\"Cross-validation scores:\", cv_scores)\n",
    "print(\"Mean accuracy:\", cv_scores.mean())\n"
   ]
  },
  {
   "cell_type": "code",
   "execution_count": 15,
   "id": "cf820a0b",
   "metadata": {},
   "outputs": [
    {
     "data": {
      "text/plain": [
       "<sklearn.metrics._plot.confusion_matrix.ConfusionMatrixDisplay at 0x7fd74e055630>"
      ]
     },
     "execution_count": 15,
     "metadata": {},
     "output_type": "execute_result"
    },
    {
     "data": {
      "image/png": "[encoded data removed]",
      "text/plain": [
       "<Figure size 640x480 with 2 Axes>"
      ]
     },
     "metadata": {},
     "output_type": "display_data"
    }
   ],
   "source": [
    "#Confusion Matrix\n",
    "from sklearn.metrics import confusion_matrix, ConfusionMatrixDisplay\n",
    "\n",
    "cm = confusion_matrix(y_test, y_pred)\n",
    "ConfusionMatrixDisplay(confusion_matrix=cm, display_labels=label_encoder.classes_).plot()"
   ]
  },
  {
   "cell_type": "code",
   "execution_count": null,
   "id": "d6f63947",
   "metadata": {},
   "outputs": [
    {
     "name": "stdout",
     "output_type": "stream",
     "text": [
      "Gradient Boosting Accuracy: 0.9561113732892874\n",
      "Gradient Boost Model Metrics:\n",
      "Accuracy: 0.9561113732892874\n",
      "F1: 0.8893488726290215\n",
      "Recall: 0.8775872387926521\n"
     ]
    }
   ],
   "source": [
    "#Trying GradientBoost Model\n",
    "\n",
    "from sklearn.ensemble import GradientBoostingClassifier\n",
    "\n",
    "# Gradient Boosting Classifier pipeline\n",
    "gb_model = Pipeline(steps=[\n",
    "    ('preprocessor', preprocessor),\n",
    "    ('classifier', GradientBoostingClassifier(random_state=42))\n",
    "])\n",
    "\n",
    "# Train the Gradient Boosting model\n",
    "gb_model.fit(X_train, y_train)\n",
    "\n",
    "# Make predictions with Gradient Boosting\n",
    "y_pred_gb = gb_model.predict(X_test)\n",
    "\n",
    "# Evaluate the model (e.g., Accuracy)\n",
    "print(\"Gradient Boost Model Metrics:\")\n",
    "print(\"Accuracy:\", accuracy_score(y_test, y_pred_gb))\n",
    "print(\"F1:\", f1_score(y_test, y_pred_gb, average='macro'))\n",
    "print(\"Recall:\", recall_score(y_test, y_pred_gb, average='macro'))"
   ]
  },
  {
   "cell_type": "code",
   "execution_count": null,
   "id": "1b29fe3f",
   "metadata": {},
   "outputs": [],
   "source": [
    "#Compare RandomForect and GradientBoost models\n",
    "rf_model = Pipeline(steps=[\n",
    "    ('preprocessor', preprocessor),\n",
    "    ('classifier', RandomForestClassifier(random_state=42))\n",
    "])\n",
    "\n",
    "# Cross-validation scores\n",
    "rf_scores = cross_val_score(rf_model, X_train, y_train, cv=5, scoring='accuracy')\n",
    "gb_scores = cross_val_score(gb_model, X_train, y_train, cv=5, scoring='accuracy')\n",
    "\n",
    "print(f\"Random Forest CV Mean Accuracy: {rf_scores.mean()}\")\n",
    "print(f\"Gradient Boosting CV Mean Accuracy: {gb_scores.mean()}\")"
   ]
  }
 ],
 "metadata": {
  "kernelspec": {
   "display_name": "venv",
   "language": "python",
   "name": "python3"
  },
  "language_info": {
   "codemirror_mode": {
    "name": "ipython",
    "version": 3
   },
   "file_extension": ".py",
   "mimetype": "text/x-python",
   "name": "python",
   "nbconvert_exporter": "python",
   "pygments_lexer": "ipython3",
   "version": "3.10.6"
  }
 },
 "nbformat": 4,
 "nbformat_minor": 5
}
