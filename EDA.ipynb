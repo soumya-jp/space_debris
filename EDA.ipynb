{
 "cells": [
  {
   "cell_type": "markdown",
   "id": "584bbbaf",
   "metadata": {},
   "source": [
    "# Data Preprocessing / Exploratory Data Analysis"
   ]
  },
  {
   "cell_type": "markdown",
   "id": "55f7bb00",
   "metadata": {},
   "source": [
    "Objective: Clean the data and vizualize to prepare for ML modeling. "
   ]
  },
  {
   "cell_type": "markdown",
   "id": "50001771",
   "metadata": {},
   "source": [
    "## Data Cleaning\n",
    "1. Handling of NaN values and duplicates\n",
    "2. Dropping unnecessary columns\n",
    "3. Dropping rows where OBJECT_TYPE is unknown"
   ]
  },
  {
   "cell_type": "code",
   "execution_count": 7,
   "id": "99aabfc1",
   "metadata": {},
   "outputs": [],
   "source": [
    "import pandas as pd"
   ]
  },
  {
   "cell_type": "code",
   "execution_count": 8,
   "id": "a31f37e2",
   "metadata": {},
   "outputs": [
    {
     "data": {
      "text/html": [
       "<div>\n",
       "<style scoped>\n",
       "    .dataframe tbody tr th:only-of-type {\n",
       "        vertical-align: middle;\n",
       "    }\n",
       "\n",
       "    .dataframe tbody tr th {\n",
       "        vertical-align: top;\n",
       "    }\n",
       "\n",
       "    .dataframe thead th {\n",
       "        text-align: right;\n",
       "    }\n",
       "</style>\n",
       "<table border=\"1\" class=\"dataframe\">\n",
       "  <thead>\n",
       "    <tr style=\"text-align: right;\">\n",
       "      <th></th>\n",
       "      <th>CCSDS_OMM_VERS</th>\n",
       "      <th>COMMENT</th>\n",
       "      <th>CREATION_DATE</th>\n",
       "      <th>ORIGINATOR</th>\n",
       "      <th>OBJECT_NAME</th>\n",
       "      <th>OBJECT_ID</th>\n",
       "      <th>CENTER_NAME</th>\n",
       "      <th>REF_FRAME</th>\n",
       "      <th>TIME_SYSTEM</th>\n",
       "      <th>MEAN_ELEMENT_THEORY</th>\n",
       "      <th>...</th>\n",
       "      <th>RCS_SIZE</th>\n",
       "      <th>COUNTRY_CODE</th>\n",
       "      <th>LAUNCH_DATE</th>\n",
       "      <th>SITE</th>\n",
       "      <th>DECAY_DATE</th>\n",
       "      <th>FILE</th>\n",
       "      <th>GP_ID</th>\n",
       "      <th>TLE_LINE0</th>\n",
       "      <th>TLE_LINE1</th>\n",
       "      <th>TLE_LINE2</th>\n",
       "    </tr>\n",
       "  </thead>\n",
       "  <tbody>\n",
       "    <tr>\n",
       "      <th>0</th>\n",
       "      <td>2</td>\n",
       "      <td>GENERATED VIA SPACE-TRACK.ORG API</td>\n",
       "      <td>2021-11-01T06:46:11</td>\n",
       "      <td>18 SPCS</td>\n",
       "      <td>ARIANE 42P+ DEB</td>\n",
       "      <td>1992-072J</td>\n",
       "      <td>EARTH</td>\n",
       "      <td>TEME</td>\n",
       "      <td>UTC</td>\n",
       "      <td>SGP4</td>\n",
       "      <td>...</td>\n",
       "      <td>MEDIUM</td>\n",
       "      <td>FR</td>\n",
       "      <td>1992.0</td>\n",
       "      <td>FRGUI</td>\n",
       "      <td>NaN</td>\n",
       "      <td>3195178</td>\n",
       "      <td>188614016</td>\n",
       "      <td>0 ARIANE 42P+ DEB</td>\n",
       "      <td>1 26741U 92072J   21304.94919376  .00000883  0...</td>\n",
       "      <td>2 26741   7.7156  90.2410 6528926 243.1216  38...</td>\n",
       "    </tr>\n",
       "    <tr>\n",
       "      <th>1</th>\n",
       "      <td>2</td>\n",
       "      <td>GENERATED VIA SPACE-TRACK.ORG API</td>\n",
       "      <td>2021-11-01T04:58:37</td>\n",
       "      <td>18 SPCS</td>\n",
       "      <td>SL-8 DEB</td>\n",
       "      <td>1979-028C</td>\n",
       "      <td>EARTH</td>\n",
       "      <td>TEME</td>\n",
       "      <td>UTC</td>\n",
       "      <td>SGP4</td>\n",
       "      <td>...</td>\n",
       "      <td>SMALL</td>\n",
       "      <td>CIS</td>\n",
       "      <td>1979.0</td>\n",
       "      <td>PKMTR</td>\n",
       "      <td>NaN</td>\n",
       "      <td>3194950</td>\n",
       "      <td>188593285</td>\n",
       "      <td>0 SL-8 DEB</td>\n",
       "      <td>1 26743U 79028C   21304.68908982  .00000079  0...</td>\n",
       "      <td>2 26743  82.9193 299.1120 0030720 158.9093 201...</td>\n",
       "    </tr>\n",
       "    <tr>\n",
       "      <th>2</th>\n",
       "      <td>2</td>\n",
       "      <td>GENERATED VIA SPACE-TRACK.ORG API</td>\n",
       "      <td>2021-11-01T06:26:11</td>\n",
       "      <td>18 SPCS</td>\n",
       "      <td>GSAT 1</td>\n",
       "      <td>2001-015A</td>\n",
       "      <td>EARTH</td>\n",
       "      <td>TEME</td>\n",
       "      <td>UTC</td>\n",
       "      <td>SGP4</td>\n",
       "      <td>...</td>\n",
       "      <td>LARGE</td>\n",
       "      <td>IND</td>\n",
       "      <td>2001.0</td>\n",
       "      <td>SRI</td>\n",
       "      <td>NaN</td>\n",
       "      <td>3195026</td>\n",
       "      <td>188609573</td>\n",
       "      <td>0 GSAT 1</td>\n",
       "      <td>1 26745U 01015A   21305.22411368 -.00000165  0...</td>\n",
       "      <td>2 26745  12.1717  16.5368 0237386 250.1248 146...</td>\n",
       "    </tr>\n",
       "    <tr>\n",
       "      <th>3</th>\n",
       "      <td>2</td>\n",
       "      <td>GENERATED VIA SPACE-TRACK.ORG API</td>\n",
       "      <td>2021-10-31T18:07:15</td>\n",
       "      <td>18 SPCS</td>\n",
       "      <td>CZ-4 DEB</td>\n",
       "      <td>1999-057MB</td>\n",
       "      <td>EARTH</td>\n",
       "      <td>TEME</td>\n",
       "      <td>UTC</td>\n",
       "      <td>SGP4</td>\n",
       "      <td>...</td>\n",
       "      <td>SMALL</td>\n",
       "      <td>PRC</td>\n",
       "      <td>1999.0</td>\n",
       "      <td>TSC</td>\n",
       "      <td>NaN</td>\n",
       "      <td>3194431</td>\n",
       "      <td>188556894</td>\n",
       "      <td>0 CZ-4 DEB</td>\n",
       "      <td>1 26754U 99057MB  21304.46625230  .00002265  0...</td>\n",
       "      <td>2 26754  98.4781   8.7205 0060618  37.3771 323...</td>\n",
       "    </tr>\n",
       "    <tr>\n",
       "      <th>4</th>\n",
       "      <td>2</td>\n",
       "      <td>GENERATED VIA SPACE-TRACK.ORG API</td>\n",
       "      <td>2021-11-01T04:58:37</td>\n",
       "      <td>18 SPCS</td>\n",
       "      <td>CZ-4 DEB</td>\n",
       "      <td>1999-057MC</td>\n",
       "      <td>EARTH</td>\n",
       "      <td>TEME</td>\n",
       "      <td>UTC</td>\n",
       "      <td>SGP4</td>\n",
       "      <td>...</td>\n",
       "      <td>SMALL</td>\n",
       "      <td>PRC</td>\n",
       "      <td>1999.0</td>\n",
       "      <td>TSC</td>\n",
       "      <td>NaN</td>\n",
       "      <td>3194950</td>\n",
       "      <td>188592541</td>\n",
       "      <td>0 CZ-4 DEB</td>\n",
       "      <td>1 26755U 99057MC  21304.74081807  .00002610  0...</td>\n",
       "      <td>2 26755  98.4232 122.0724 0062255 345.1605  27...</td>\n",
       "    </tr>\n",
       "  </tbody>\n",
       "</table>\n",
       "<p>5 rows × 40 columns</p>\n",
       "</div>"
      ],
      "text/plain": [
       "   CCSDS_OMM_VERS                            COMMENT        CREATION_DATE  \\\n",
       "0               2  GENERATED VIA SPACE-TRACK.ORG API  2021-11-01T06:46:11   \n",
       "1               2  GENERATED VIA SPACE-TRACK.ORG API  2021-11-01T04:58:37   \n",
       "2               2  GENERATED VIA SPACE-TRACK.ORG API  2021-11-01T06:26:11   \n",
       "3               2  GENERATED VIA SPACE-TRACK.ORG API  2021-10-31T18:07:15   \n",
       "4               2  GENERATED VIA SPACE-TRACK.ORG API  2021-11-01T04:58:37   \n",
       "\n",
       "  ORIGINATOR      OBJECT_NAME   OBJECT_ID CENTER_NAME REF_FRAME TIME_SYSTEM  \\\n",
       "0    18 SPCS  ARIANE 42P+ DEB   1992-072J       EARTH      TEME         UTC   \n",
       "1    18 SPCS         SL-8 DEB   1979-028C       EARTH      TEME         UTC   \n",
       "2    18 SPCS           GSAT 1   2001-015A       EARTH      TEME         UTC   \n",
       "3    18 SPCS         CZ-4 DEB  1999-057MB       EARTH      TEME         UTC   \n",
       "4    18 SPCS         CZ-4 DEB  1999-057MC       EARTH      TEME         UTC   \n",
       "\n",
       "  MEAN_ELEMENT_THEORY  ... RCS_SIZE  COUNTRY_CODE  LAUNCH_DATE   SITE  \\\n",
       "0                SGP4  ...   MEDIUM            FR       1992.0  FRGUI   \n",
       "1                SGP4  ...    SMALL           CIS       1979.0  PKMTR   \n",
       "2                SGP4  ...    LARGE           IND       2001.0    SRI   \n",
       "3                SGP4  ...    SMALL           PRC       1999.0    TSC   \n",
       "4                SGP4  ...    SMALL           PRC       1999.0    TSC   \n",
       "\n",
       "   DECAY_DATE     FILE      GP_ID          TLE_LINE0  \\\n",
       "0         NaN  3195178  188614016  0 ARIANE 42P+ DEB   \n",
       "1         NaN  3194950  188593285         0 SL-8 DEB   \n",
       "2         NaN  3195026  188609573           0 GSAT 1   \n",
       "3         NaN  3194431  188556894         0 CZ-4 DEB   \n",
       "4         NaN  3194950  188592541         0 CZ-4 DEB   \n",
       "\n",
       "                                           TLE_LINE1  \\\n",
       "0  1 26741U 92072J   21304.94919376  .00000883  0...   \n",
       "1  1 26743U 79028C   21304.68908982  .00000079  0...   \n",
       "2  1 26745U 01015A   21305.22411368 -.00000165  0...   \n",
       "3  1 26754U 99057MB  21304.46625230  .00002265  0...   \n",
       "4  1 26755U 99057MC  21304.74081807  .00002610  0...   \n",
       "\n",
       "                                           TLE_LINE2  \n",
       "0  2 26741   7.7156  90.2410 6528926 243.1216  38...  \n",
       "1  2 26743  82.9193 299.1120 0030720 158.9093 201...  \n",
       "2  2 26745  12.1717  16.5368 0237386 250.1248 146...  \n",
       "3  2 26754  98.4781   8.7205 0060618  37.3771 323...  \n",
       "4  2 26755  98.4232 122.0724 0062255 345.1605  27...  \n",
       "\n",
       "[5 rows x 40 columns]"
      ]
     },
     "execution_count": 8,
     "metadata": {},
     "output_type": "execute_result"
    }
   ],
   "source": [
    "df = pd.read_csv(\"data/space_debris_kaggle.csv\")\n",
    "df.head()"
   ]
  },
  {
   "cell_type": "code",
   "execution_count": 9,
   "id": "0bf85c1e",
   "metadata": {},
   "outputs": [
    {
     "data": {
      "text/plain": [
       "Index(['CCSDS_OMM_VERS', 'COMMENT', 'CREATION_DATE', 'ORIGINATOR',\n",
       "       'OBJECT_NAME', 'OBJECT_ID', 'CENTER_NAME', 'REF_FRAME', 'TIME_SYSTEM',\n",
       "       'MEAN_ELEMENT_THEORY', 'EPOCH', 'MEAN_MOTION', 'ECCENTRICITY',\n",
       "       'INCLINATION', 'RA_OF_ASC_NODE', 'ARG_OF_PERICENTER', 'MEAN_ANOMALY',\n",
       "       'EPHEMERIS_TYPE', 'CLASSIFICATION_TYPE', 'NORAD_CAT_ID',\n",
       "       'ELEMENT_SET_NO', 'REV_AT_EPOCH', 'BSTAR', 'MEAN_MOTION_DOT',\n",
       "       'MEAN_MOTION_DDOT', 'SEMIMAJOR_AXIS', 'PERIOD', 'APOAPSIS', 'PERIAPSIS',\n",
       "       'OBJECT_TYPE', 'RCS_SIZE', 'COUNTRY_CODE', 'LAUNCH_DATE', 'SITE',\n",
       "       'DECAY_DATE', 'FILE', 'GP_ID', 'TLE_LINE0', 'TLE_LINE1', 'TLE_LINE2'],\n",
       "      dtype='object')"
      ]
     },
     "execution_count": 9,
     "metadata": {},
     "output_type": "execute_result"
    }
   ],
   "source": [
    "df.columns"
   ]
  },
  {
   "cell_type": "code",
   "execution_count": null,
   "id": "e671d8a6",
   "metadata": {},
   "outputs": [
    {
     "name": "stdout",
     "output_type": "stream",
     "text": [
      "Dropped columns: ['CCSDS_OMM_VERS', 'COMMENT', 'ORIGINATOR', 'CENTER_NAME', 'REF_FRAME', 'TIME_SYSTEM', 'MEAN_ELEMENT_THEORY', 'EPHEMERIS_TYPE', 'CLASSIFICATION_TYPE', 'ELEMENT_SET_NO']\n"
     ]
    }
   ],
   "source": [
    "#Drop columns with only one unique value\n",
    "cols_to_drop = [col for col in df.columns if df[col].nunique() == 1]\n",
    "\n",
    "# Drop these columns from the DataFrame\n",
    "df.drop(columns=cols_to_drop, inplace=True)\n",
    "\n",
    "# Check if the columns are dropped\n",
    "print(\"Dropped columns:\", cols_to_drop)"
   ]
  },
  {
   "cell_type": "code",
   "execution_count": null,
   "id": "d26c5ee7",
   "metadata": {},
   "outputs": [],
   "source": [
    "#Dropping DECAY_DATE as all the columns are Nan\n",
    "df.drop(columns=['DECAY_DATE'], inplace=True)"
   ]
  },
  {
   "cell_type": "code",
   "execution_count": 11,
   "id": "4ef4535e",
   "metadata": {},
   "outputs": [
    {
     "name": "stdout",
     "output_type": "stream",
     "text": [
      "CREATION_DATE            0\n",
      "OBJECT_NAME              0\n",
      "OBJECT_ID               39\n",
      "EPOCH                    0\n",
      "MEAN_MOTION              0\n",
      "ECCENTRICITY             0\n",
      "INCLINATION              0\n",
      "RA_OF_ASC_NODE           0\n",
      "ARG_OF_PERICENTER        0\n",
      "MEAN_ANOMALY             0\n",
      "NORAD_CAT_ID             0\n",
      "REV_AT_EPOCH             0\n",
      "BSTAR                    0\n",
      "MEAN_MOTION_DOT          0\n",
      "MEAN_MOTION_DDOT         0\n",
      "SEMIMAJOR_AXIS           0\n",
      "PERIOD                   0\n",
      "APOAPSIS                 0\n",
      "PERIAPSIS                0\n",
      "OBJECT_TYPE              0\n",
      "RCS_SIZE               198\n",
      "COUNTRY_CODE            39\n",
      "LAUNCH_DATE             39\n",
      "SITE                    39\n",
      "DECAY_DATE           14372\n",
      "FILE                     0\n",
      "GP_ID                    0\n",
      "TLE_LINE0                0\n",
      "TLE_LINE1                0\n",
      "TLE_LINE2                0\n",
      "dtype: int64\n"
     ]
    }
   ],
   "source": [
    "#Check which columns have NaN values\n",
    "print(df.isnull().sum())"
   ]
  },
  {
   "cell_type": "code",
   "execution_count": 12,
   "id": "60012571",
   "metadata": {},
   "outputs": [
    {
     "name": "stdout",
     "output_type": "stream",
     "text": [
      "0\n"
     ]
    }
   ],
   "source": [
    "print(df.duplicated().sum())"
   ]
  },
  {
   "cell_type": "code",
   "execution_count": null,
   "id": "082c0715",
   "metadata": {},
   "outputs": [
    {
     "data": {
      "text/plain": [
       "OBJECT_TYPE\n",
       "DEBRIS         8431\n",
       "PAYLOAD        4950\n",
       "ROCKET BODY     744\n",
       "TBA             247\n",
       "Name: count, dtype: int64"
      ]
     },
     "execution_count": 13,
     "metadata": {},
     "output_type": "execute_result"
    }
   ],
   "source": [
    "#Checking values in target for classification\n",
    "df['OBJECT_TYPE'].value_counts()"
   ]
  },
  {
   "cell_type": "code",
   "execution_count": 15,
   "id": "9b7871d5",
   "metadata": {},
   "outputs": [
    {
     "name": "stderr",
     "output_type": "stream",
     "text": [
      "/tmp/ipykernel_5836/2732867745.py:2: FutureWarning: A value is trying to be set on a copy of a DataFrame or Series through chained assignment using an inplace method.\n",
      "The behavior will change in pandas 3.0. This inplace method will never work because the intermediate object on which we are setting values always behaves as a copy.\n",
      "\n",
      "For example, when doing 'df[col].method(value, inplace=True)', try using 'df.method({col: value}, inplace=True)' or df[col] = df[col].method(value) instead, to perform the operation inplace on the original object.\n",
      "\n",
      "\n",
      "  df['OBJECT_ID'].fillna('Unknown', inplace=True)\n"
     ]
    }
   ],
   "source": [
    "# Handle missing OBJECT_ID based on OBJECT_TYPE\n",
    "df['OBJECT_ID'].fillna('Unknown', inplace=True)"
   ]
  },
  {
   "cell_type": "code",
   "execution_count": 16,
   "id": "022f32cc",
   "metadata": {},
   "outputs": [
    {
     "data": {
      "text/plain": [
       "RCS_SIZE\n",
       "SMALL     8346\n",
       "LARGE     4189\n",
       "MEDIUM    1639\n",
       "Name: count, dtype: int64"
      ]
     },
     "execution_count": 16,
     "metadata": {},
     "output_type": "execute_result"
    }
   ],
   "source": [
    "df['RCS_SIZE'].value_counts()"
   ]
  },
  {
   "cell_type": "code",
   "execution_count": 17,
   "id": "68cfb1a0",
   "metadata": {},
   "outputs": [],
   "source": [
    "#Removing rows where OBJECT_TYPE is TBA\n",
    "df = df[df['OBJECT_TYPE'] != 'TBA']"
   ]
  },
  {
   "cell_type": "code",
   "execution_count": null,
   "id": "3c35b626",
   "metadata": {},
   "outputs": [
    {
     "name": "stderr",
     "output_type": "stream",
     "text": [
      "/tmp/ipykernel_5836/2924190457.py:1: FutureWarning: A value is trying to be set on a copy of a DataFrame or Series through chained assignment using an inplace method.\n",
      "The behavior will change in pandas 3.0. This inplace method will never work because the intermediate object on which we are setting values always behaves as a copy.\n",
      "\n",
      "For example, when doing 'df[col].method(value, inplace=True)', try using 'df.method({col: value}, inplace=True)' or df[col] = df[col].method(value) instead, to perform the operation inplace on the original object.\n",
      "\n",
      "\n",
      "  df['COUNTRY_CODE'].fillna(df['COUNTRY_CODE'].mode()[0], inplace=True)\n",
      "/tmp/ipykernel_5836/2924190457.py:2: FutureWarning: A value is trying to be set on a copy of a DataFrame or Series through chained assignment using an inplace method.\n",
      "The behavior will change in pandas 3.0. This inplace method will never work because the intermediate object on which we are setting values always behaves as a copy.\n",
      "\n",
      "For example, when doing 'df[col].method(value, inplace=True)', try using 'df.method({col: value}, inplace=True)' or df[col] = df[col].method(value) instead, to perform the operation inplace on the original object.\n",
      "\n",
      "\n",
      "  df['LAUNCH_DATE'].fillna(df['LAUNCH_DATE'].mode()[0], inplace=True)\n",
      "/tmp/ipykernel_5836/2924190457.py:3: FutureWarning: A value is trying to be set on a copy of a DataFrame or Series through chained assignment using an inplace method.\n",
      "The behavior will change in pandas 3.0. This inplace method will never work because the intermediate object on which we are setting values always behaves as a copy.\n",
      "\n",
      "For example, when doing 'df[col].method(value, inplace=True)', try using 'df.method({col: value}, inplace=True)' or df[col] = df[col].method(value) instead, to perform the operation inplace on the original object.\n",
      "\n",
      "\n",
      "  df['SITE'].fillna(df['SITE'].mode()[0], inplace=True)\n"
     ]
    }
   ],
   "source": [
    "#Fill in NaN values\n",
    "df['COUNTRY_CODE'].fillna(df['COUNTRY_CODE'].mode()[0], inplace=True)\n",
    "df['LAUNCH_DATE'].fillna(df['LAUNCH_DATE'].mode()[0], inplace=True)\n",
    "df['SITE'].fillna(df['SITE'].mode()[0], inplace=True)"
   ]
  },
  {
   "cell_type": "code",
   "execution_count": 19,
   "id": "b808cce0",
   "metadata": {},
   "outputs": [
    {
     "name": "stderr",
     "output_type": "stream",
     "text": [
      "/tmp/ipykernel_5836/3094858034.py:1: FutureWarning: A value is trying to be set on a copy of a DataFrame or Series through chained assignment using an inplace method.\n",
      "The behavior will change in pandas 3.0. This inplace method will never work because the intermediate object on which we are setting values always behaves as a copy.\n",
      "\n",
      "For example, when doing 'df[col].method(value, inplace=True)', try using 'df.method({col: value}, inplace=True)' or df[col] = df[col].method(value) instead, to perform the operation inplace on the original object.\n",
      "\n",
      "\n",
      "  df['RCS_SIZE'].fillna('UNKNOWN', inplace=True)\n"
     ]
    }
   ],
   "source": [
    "#Replace missing RCS size data with Unknown\n",
    "df['RCS_SIZE'].fillna('UNKNOWN', inplace=True)"
   ]
  },
  {
   "cell_type": "code",
   "execution_count": 20,
   "id": "f43900c4",
   "metadata": {},
   "outputs": [
    {
     "name": "stdout",
     "output_type": "stream",
     "text": [
      "CREATION_DATE        0\n",
      "OBJECT_NAME          0\n",
      "OBJECT_ID            0\n",
      "EPOCH                0\n",
      "MEAN_MOTION          0\n",
      "ECCENTRICITY         0\n",
      "INCLINATION          0\n",
      "RA_OF_ASC_NODE       0\n",
      "ARG_OF_PERICENTER    0\n",
      "MEAN_ANOMALY         0\n",
      "NORAD_CAT_ID         0\n",
      "REV_AT_EPOCH         0\n",
      "BSTAR                0\n",
      "MEAN_MOTION_DOT      0\n",
      "MEAN_MOTION_DDOT     0\n",
      "SEMIMAJOR_AXIS       0\n",
      "PERIOD               0\n",
      "APOAPSIS             0\n",
      "PERIAPSIS            0\n",
      "OBJECT_TYPE          0\n",
      "RCS_SIZE             0\n",
      "COUNTRY_CODE         0\n",
      "LAUNCH_DATE          0\n",
      "SITE                 0\n",
      "FILE                 0\n",
      "GP_ID                0\n",
      "TLE_LINE0            0\n",
      "TLE_LINE1            0\n",
      "TLE_LINE2            0\n",
      "dtype: int64\n"
     ]
    }
   ],
   "source": [
    "print(df.isnull().sum())"
   ]
  },
  {
   "cell_type": "markdown",
   "id": "d501e300",
   "metadata": {},
   "source": [
    "## Splitting of Features and Target\n",
    "1. Label Encoding Target (OBJECT_TYPE)\n",
    "2. Splitting into X and Y"
   ]
  },
  {
   "cell_type": "code",
   "execution_count": 21,
   "id": "69712e6c",
   "metadata": {},
   "outputs": [],
   "source": [
    "from sklearn.preprocessing import LabelEncoder\n",
    "\n",
    "label_encoder = LabelEncoder()\n",
    "\n",
    "# Encode OBJECT_TYPE\n",
    "df['OBJECT_TYPE_ENCODED'] = label_encoder.fit_transform(df['OBJECT_TYPE'])\n",
    "\n",
    "# Split into X and Y\n",
    "X = df.drop(columns=['OBJECT_TYPE', 'OBJECT_TYPE_ENCODED'])  # Features\n",
    "Y = df['OBJECT_TYPE_ENCODED']  # Encoded target"
   ]
  },
  {
   "cell_type": "markdown",
   "id": "70babfa3",
   "metadata": {},
   "source": [
    "## Data Preprocessing\n",
    "1. Encoding categorical features\n",
    "2. Scaling numerical features "
   ]
  },
  {
   "cell_type": "code",
   "execution_count": 22,
   "id": "eb633d0f",
   "metadata": {},
   "outputs": [
    {
     "data": {
      "text/plain": [
       "RCS_SIZE\n",
       "SMALL      8256\n",
       "LARGE      4170\n",
       "MEDIUM     1540\n",
       "UNKNOWN     159\n",
       "Name: count, dtype: int64"
      ]
     },
     "execution_count": 22,
     "metadata": {},
     "output_type": "execute_result"
    }
   ],
   "source": [
    "df['RCS_SIZE'].value_counts()"
   ]
  },
  {
   "cell_type": "code",
   "execution_count": 15,
   "id": "2135b802",
   "metadata": {},
   "outputs": [],
   "source": [
    "# One Hot Encode RCS_SIZE\n",
    "from sklearn.preprocessing import OneHotEncoder\n",
    "encoder = OneHotEncoder(sparse_output=False)\n",
    "rcs_size_reshaped = X[['RCS_SIZE']]\n",
    "rcs_size_encoded = encoder.fit_transform(rcs_size_reshaped)\n",
    "rcs_size_encoded_df = pd.DataFrame(\n",
    "    rcs_size_encoded,\n",
    "    columns=encoder.get_feature_names_out(['RCS_SIZE']),\n",
    "    index=X.index\n",
    ")\n",
    "\n",
    "X = pd.concat([X, rcs_size_encoded_df], axis=1)\n",
    "X.drop(columns=['RCS_SIZE'], inplace=True)\n"
   ]
  }
 ],
 "metadata": {
  "kernelspec": {
   "display_name": "venv",
   "language": "python",
   "name": "python3"
  },
  "language_info": {
   "codemirror_mode": {
    "name": "ipython",
    "version": 3
   },
   "file_extension": ".py",
   "mimetype": "text/x-python",
   "name": "python",
   "nbconvert_exporter": "python",
   "pygments_lexer": "ipython3",
   "version": "3.10.6"
  }
 },
 "nbformat": 4,
 "nbformat_minor": 5
}
